{
  "nbformat": 4,
  "nbformat_minor": 0,
  "metadata": {
    "colab": {
      "name": "bs_finder.ipynb",
      "provenance": [],
      "collapsed_sections": [],
      "toc_visible": true,
      "include_colab_link": true
    },
    "kernelspec": {
      "name": "python3",
      "display_name": "Python 3"
    },
    "accelerator": "GPU"
  },
  "cells": [
    {
      "cell_type": "markdown",
      "metadata": {
        "id": "view-in-github",
        "colab_type": "text"
      },
      "source": [
        "<a href=\"https://colab.research.google.com/github/DanyWind/fastai_bs_finder/blob/master/bs_finder.ipynb\" target=\"_parent\"><img src=\"https://colab.research.google.com/assets/colab-badge.svg\" alt=\"Open In Colab\"/></a>"
      ]
    },
    {
      "cell_type": "markdown",
      "metadata": {
        "id": "6EMcf30PcLZx",
        "colab_type": "text"
      },
      "source": [
        "# Batch size finder by Daniel Huynh\n",
        "\n",
        "The goal here is to reimplement the paper https://arxiv.org/pdf/1812.06162.pdf and to plug it to Fastai **Learner** and make its use similar to **learn.lr_find()**\n"
      ]
    },
    {
      "cell_type": "markdown",
      "metadata": {
        "id": "zWE1WqgngTU1",
        "colab_type": "text"
      },
      "source": [
        "\n",
        "## Loading the data\n",
        "\n",
        "Here we will first load MNIST to do our tests. Bits of code from Fastai v3 have been used, as there the MNIST model used in the paper is not very precise about kernel size, activations, padding, etc ...\n",
        "\n",
        "The original code from Fastai can be found here : https://github.com/fastai/course-v3/blob/master/nbs/dl1/lesson7-resnet-mnist.ipynb"
      ]
    },
    {
      "cell_type": "code",
      "metadata": {
        "id": "epEtqKeGblIG",
        "colab_type": "code",
        "colab": {}
      },
      "source": [
        "from fastai.vision import *\n",
        "from fastai import *"
      ],
      "execution_count": 0,
      "outputs": []
    },
    {
      "cell_type": "code",
      "metadata": {
        "id": "GZ9ZK5pIcbhk",
        "colab_type": "code",
        "colab": {}
      },
      "source": [
        "path = untar_data(URLs.MNIST)"
      ],
      "execution_count": 0,
      "outputs": []
    },
    {
      "cell_type": "code",
      "metadata": {
        "id": "GM_-MSIRd8TZ",
        "colab_type": "code",
        "colab": {}
      },
      "source": [
        "# We add transforms\n",
        "tfms = ([*rand_pad(padding=3, size=28, mode='zeros')], [])\n",
        "\n",
        "# We load our data\n",
        "data = (ImageList.from_folder(path/\"training\")\n",
        "        .split_by_rand_pct(valid_pct=0.2, seed=42)\n",
        "        .label_from_folder()\n",
        "        .transform(tfms = tfms)\n",
        "        .databunch()\n",
        "        .normalize()\n",
        "       )"
      ],
      "execution_count": 0,
      "outputs": []
    },
    {
      "cell_type": "code",
      "metadata": {
        "id": "wEvawYJ6f2_e",
        "colab_type": "code",
        "colab": {}
      },
      "source": [
        "# We define our model\n",
        "def conv2(ni,nf): return conv_layer(ni,nf,stride=2)\n",
        "\n",
        "def conv_and_res(ni,nf): return nn.Sequential(conv2(ni, nf), res_block(nf))\n",
        "\n",
        "def create_model():\n",
        "  model = nn.Sequential(\n",
        "      conv_and_res(3, 8),\n",
        "      conv_and_res(8, 16),\n",
        "      conv_and_res(16, 32),\n",
        "      conv_and_res(32, 16),\n",
        "      conv2(16, 10),\n",
        "      Flatten()\n",
        "  )\n",
        "  return model"
      ],
      "execution_count": 0,
      "outputs": []
    },
    {
      "cell_type": "code",
      "metadata": {
        "id": "ngnP6RX6gztt",
        "colab_type": "code",
        "colab": {}
      },
      "source": [
        "# We create our learner\n",
        "model = create_model()\n",
        "learn = Learner(data, model, loss_func = nn.CrossEntropyLoss(), metrics=accuracy)"
      ],
      "execution_count": 0,
      "outputs": []
    },
    {
      "cell_type": "code",
      "metadata": {
        "id": "3ZdBGg5V7TFH",
        "colab_type": "code",
        "colab": {
          "base_uri": "https://localhost:8080/",
          "height": 35
        },
        "outputId": "90cb0677-44f4-4845-bb20-073c9298af6b"
      },
      "source": [
        "learn.data.batch_size"
      ],
      "execution_count": 22,
      "outputs": [
        {
          "output_type": "execute_result",
          "data": {
            "text/plain": [
              "64"
            ]
          },
          "metadata": {
            "tags": []
          },
          "execution_count": 22
        }
      ]
    },
    {
      "cell_type": "code",
      "metadata": {
        "id": "cy6PD-Arhok5",
        "colab_type": "code",
        "outputId": "8dfa2180-5af2-4206-9b85-10ba519e0d63",
        "colab": {
          "base_uri": "https://localhost:8080/",
          "height": 297
        }
      },
      "source": [
        "learn.lr_find(end_lr=100)\n",
        "learn.recorder.plot()"
      ],
      "execution_count": 6,
      "outputs": [
        {
          "output_type": "display_data",
          "data": {
            "text/html": [
              ""
            ],
            "text/plain": [
              "<IPython.core.display.HTML object>"
            ]
          },
          "metadata": {
            "tags": []
          }
        },
        {
          "output_type": "stream",
          "text": [
            "LR Finder is complete, type {learner_name}.recorder.plot() to see the graph.\n"
          ],
          "name": "stdout"
        },
        {
          "output_type": "display_data",
          "data": {
            "image/png": "[encoded data removed]",
            "text/plain": [
              "<Figure size 432x288 with 1 Axes>"
            ]
          },
          "metadata": {
            "tags": []
          }
        }
      ]
    },
    {
      "cell_type": "markdown",
      "metadata": {
        "id": "ohIGSjsCk8Bt",
        "colab_type": "text"
      },
      "source": [
        "## Implementing the paper\n",
        "\n"
      ]
    },
    {
      "cell_type": "markdown",
      "metadata": {
        "id": "GCyPM_tygkfs",
        "colab_type": "text"
      },
      "source": [
        "### Issue of computing the simple noise scale\n",
        "\n",
        "The goal here is to compute the **Simple Noise Scale**, which we recall is the ratio between the sum of the variances of each component of the gradient, over the magnitude of the gradient. Once we have the Simple Noise Scale, we can know which batch size to choose, as it is a good estimator of the optimal batch size in terms of tradeoff computation time/efficiency.\n",
        "\n",
        "If we denote by $G \\in \\mathbb{R}^n$ the real gradient of the loss function $\\mathcal{L}(\\theta,X)$ with respect to $\\theta \\in \\mathbb{R}^n$, then $\\mathcal{B}_{simple}$, the Simple Noise Scale, is simply :\n",
        "$$\\mathcal{B}_{simple} = \\frac{tr(\\Sigma)}{|G|^2} = \\frac{\\sum_{i=1}^n Var(G_i)}{|G|^2}$$\n",
        "\n",
        "The problem is, we only have access to the estimate of the gradient, $G_{est} = \\frac{1}{B} \\sum_{b=1}^B \\nabla \\mathcal{L}(\\theta,X_b)$, with $B$ a given batch size.\n",
        "\n",
        "So we are facing two problems : \n",
        "\n",
        "1.   First, we only have access to the approximative gradient $G_{est}$\n",
        "2.   Second, we don't have access to $\\Sigma = Cov(G)$, the covariance matrix of the real gradient.\n",
        "\n",
        "\n",
        "The paper proposes two estimators to approximate both $tr(\\Sigma)$ and $|G|^2$ :\n",
        "\n",
        "\n",
        "\n",
        "1.   $$|\\mathcal{G}|^2 = \\frac{1}{B_{big} - B_{small}} (B_{big} |G_{big}|^2 - B_{small} [G_{small}|^2) \\approx |G|^2$$\n",
        "2.   $$\\mathcal{S} = \\frac{1}{\\frac{1}{B_{small}} - \\frac{1}{B_{big}}} (|G_{small}|^2 - |G_{big}|^2 \\approx tr(\\Sigma)$$\n",
        "\n",
        "with $B_{big}$, and $B_{small}$ two different batch sizes.\n",
        "\n",
        "The problem is, the paper assumes we have several GPU devices, and the \"small\" gradient is computed on a local device, and the \"big\" gradient is computed on the average gradient between devices. \n",
        "\n",
        "As multi-GPU setups are not available for everyone, other strategies have to be adopted for an implementation on single GPU.\n",
        "\n",
        "I have then tried three different ways to compute the desired quantities $tr(\\Sigma)$ and $|G|^2$"
      ]
    },
    {
      "cell_type": "markdown",
      "metadata": {
        "id": "zVPzQMoGjuK-",
        "colab_type": "text"
      },
      "source": [
        "### First approach : using exponential moving average\n",
        "\n",
        "One way to try to solve this problem is to approximate the quantity $\\Sigma = Cov(G) = \\mathbb{E}[GG^T] - \\mathbb{E}[G]\\mathbb{E}[G]^T$ \n",
        "\n",
        "I have tried the first approximation $G = G_{est}$, i.e. using the observed mini batch gradient.\n",
        "\n",
        "Then, I have replaced the expectation with a running average accross batches of $G_{est}$ and $|G_{est}|^2$, to compute $tr(\\Sigma)$."
      ]
    },
    {
      "cell_type": "code",
      "metadata": {
        "id": "FCegwgJIi71x",
        "colab_type": "code",
        "colab": {}
      },
      "source": [
        "from fastai.basic_train import Learner, LearnerCallback\n",
        "\n",
        "def get_flatten_grad(model):\n",
        "  \"\"\"Return the flattened parameter of a model, \n",
        "  returns a (n,1) tensor with the total number of parameters\"\"\"\n",
        "  \n",
        "  parameters = list(model.parameters())\n",
        "  grads = [param.grad.flatten().view(-1,1) for param in parameters]\n",
        "  grad = torch.cat(grads)\n",
        "  return grad\n",
        "\n",
        "# Linear combination for the moving average\n",
        "def lin_comb(v1, v2, beta): return beta*v1 + (1-beta)*v2\n",
        "\n",
        "def mom3(avg, beta, yi, i):\n",
        "    \"Exponential moving average with debiasing\"\n",
        "    if avg is None: avg=0\n",
        "    avg = lin_comb(avg, yi, beta)\n",
        "    return avg/(1-beta**(i+1))\n",
        "  \n",
        "class BSFinder(LearnerCallback):\n",
        "  \"\"\"Callback to use to compute the Simple Noise Scale\"\"\"\n",
        "  \n",
        "  def __init__(self, learn:Learner, bs=None, num_it:int=100, beta = 0.9):\n",
        "      super().__init__(learn)\n",
        "      self.data = learn.data\n",
        "      if bs: self.data.batch_size = bs\n",
        "      self.num_it = num_it\n",
        "      self.beta = beta\n",
        "\n",
        "  def on_train_begin(self, pbar, **kwargs:Any)->None:\n",
        "      \"Setup the running averages and the output list\"\n",
        "\n",
        "      setattr(pbar, 'clean_on_interrupt', True)\n",
        "      self.learn.save('tmp')\n",
        "\n",
        "      # We initialize the running averages\n",
        "      self.running_theta = None\n",
        "      self.running_theta_sq = None\n",
        "\n",
        "      # We create the list which will store the data\n",
        "      self.output = []\n",
        "\n",
        "      return {'skip_validate': True}\n",
        "\n",
        "  def on_backward_end(self, iteration:int, **kwargs:Any)->None:\n",
        "      \"Determine if we did enough iterations\"\n",
        "\n",
        "      if iteration >= self.num_it:\n",
        "        return {'stop_epoch': True, 'stop_training': True}\n",
        "\n",
        "      # First we grab the gradient\n",
        "      model = self.learn.model\n",
        "      grad = get_flatten_grad(model)\n",
        "\n",
        "      # We update the gradient, and the squared gradient\n",
        "      self.running_theta = mom3(self.running_theta,self.beta,grad,iteration)\n",
        "      self.running_theta_sq = mom3(self.running_theta_sq,self.beta,grad ** 2, iteration)\n",
        "\n",
        "      # We compute the sum of variances with the formula V[X] = E[X^2] - E[X]^2\n",
        "      noise = self.running_theta_sq.sum() - (self.running_theta ** 2).sum()\n",
        "\n",
        "      # We compute the square norm of the gradient\n",
        "      scale = (grad ** 2).sum()\n",
        "\n",
        "      # We compute our statistic\n",
        "      noise_scale = (noise / scale)\n",
        "      \n",
        "      self.output.append({\"noise\":noise.item(),\"scale\":scale.item(),\"noise_scale\":noise_scale.item()})\n",
        "\n",
        "  def on_train_end(self, **kwargs:Any)->None:\n",
        "      \"Cleanup learn model weights disturbed during exploration.\"\n",
        "      self.learn.load('tmp', purge=False)\n",
        "      if hasattr(self.learn.model, 'reset'): self.learn.model.reset()\n",
        "      for cb in self.callbacks:\n",
        "          if hasattr(cb, 'reset'): cb.reset()\n",
        "        \n"
      ],
      "execution_count": 0,
      "outputs": []
    },
    {
      "cell_type": "code",
      "metadata": {
        "id": "IqMua-EHnZKP",
        "colab_type": "code",
        "colab": {}
      },
      "source": [
        "def bs_find(learn:Learner,lr,bs=None, num_it:int=10, beta = 0.9,wd = None):\n",
        "  cb = BSFinder(learn, bs, num_it, beta)\n",
        "  epochs = int(np.ceil(num_it/len(learn.data.train_dl)))\n",
        "  learn.fit(epochs, lr, callbacks=[cb], wd=wd)\n",
        "  return cb"
      ],
      "execution_count": 0,
      "outputs": []
    },
    {
      "cell_type": "code",
      "metadata": {
        "id": "KK4u9XRbnkUA",
        "colab_type": "code",
        "outputId": "c9300638-e357-4306-a69f-dd255fbd0399",
        "colab": {
          "base_uri": "https://localhost:8080/",
          "height": 17
        }
      },
      "source": [
        "lr = 1e-1\n",
        "bs = 64\n",
        "num_it = 100\n",
        "\n",
        "cb = bs_find(learn,lr=lr,bs=bs,num_it=num_it)"
      ],
      "execution_count": 0,
      "outputs": [
        {
          "output_type": "display_data",
          "data": {
            "text/html": [
              ""
            ],
            "text/plain": [
              "<IPython.core.display.HTML object>"
            ]
          },
          "metadata": {
            "tags": []
          }
        }
      ]
    },
    {
      "cell_type": "code",
      "metadata": {
        "id": "MrCxGI9JoYCW",
        "colab_type": "code",
        "outputId": "709b78bd-071f-4e61-a1fd-75aac01cb911",
        "colab": {
          "base_uri": "https://localhost:8080/",
          "height": 294
        }
      },
      "source": [
        "df = pd.DataFrame(cb.output)\n",
        "df.plot()"
      ],
      "execution_count": 0,
      "outputs": [
        {
          "output_type": "execute_result",
          "data": {
            "text/plain": [
              "<matplotlib.axes._subplots.AxesSubplot at 0x7f27e10126d8>"
            ]
          },
          "metadata": {
            "tags": []
          },
          "execution_count": 224
        },
        {
          "output_type": "display_data",
          "data": {
            "image/png": "[encoded data removed]",
            "text/plain": [
              "<Figure size 432x288 with 1 Axes>"
            ]
          },
          "metadata": {
            "tags": []
          }
        }
      ]
    },
    {
      "cell_type": "markdown",
      "metadata": {
        "id": "XVkZ8m0KozNa",
        "colab_type": "text"
      },
      "source": [
        "Well this does not seem to work at all so I guess we will try to compute it in a different way ..."
      ]
    },
    {
      "cell_type": "markdown",
      "metadata": {
        "id": "7Dwj7a-4o7No",
        "colab_type": "text"
      },
      "source": [
        "### Second approach : store every gradient\n",
        "\n",
        "We saw that using the exponential moving average is not a good idea to approximate the covariance matrix. \n",
        "\n",
        "Another way is simply to set in advance a number $N$ of gradients to keep, then we will simply compute $N$ different $G_{est}$, and use those $N$ gradients to approximate the covariance matrix $\\Sigma$."
      ]
    },
    {
      "cell_type": "code",
      "metadata": {
        "colab_type": "code",
        "id": "-fbfTsoxA-PZ",
        "colab": {}
      },
      "source": [
        "class BSFinder(LearnerCallback):\n",
        "  \"\"\"Callback to use to compute the Simple Noise Scale\"\"\"\n",
        "  def __init__(self, learn:Learner, bs=None, num_it:int=10, beta = 0.9):\n",
        "      super().__init__(learn)\n",
        "      self.data = learn.data\n",
        "      if bs: self.data.batch_size = bs\n",
        "      self.num_it = num_it\n",
        "\n",
        "  def on_train_begin(self, pbar, **kwargs:Any)->None:\n",
        "      \"Initialize optimizer and learner hyperparameters.\"\n",
        "      setattr(pbar, 'clean_on_interrupt', True)\n",
        "      self.learn.save('tmp')\n",
        "\n",
        "      self.grads = []\n",
        "\n",
        "      return {'skip_validate': True}\n",
        "\n",
        "  def on_backward_end(self, iteration:int, **kwargs:Any)->None:\n",
        "      \n",
        "      # We store each mini batch gradient\n",
        "      model = self.learn.model\n",
        "      grad = get_flatten_grad(model)\n",
        "      self.grads.append(grad)\n",
        "\n",
        "      if iteration >= self.num_it:\n",
        "        # Once we have stored N gradients we will simply compute our statistic with it\n",
        "        \n",
        "        # First we concatenate them\n",
        "        grads = torch.cat(self.grads,dim=1)\n",
        "        \n",
        "        # Then we compute the sum of variances and the scale\n",
        "        noise = (grads.std(dim = 1) ** 2).sum()\n",
        "        \n",
        "        grad = grads.mean(dim = 1)\n",
        "        scale = (grad ** 2).sum()\n",
        "        \n",
        "        self.noise = noise.item()\n",
        "        self.scale = scale.item()\n",
        "        self.noise_scale = (noise / scale).item()\n",
        "        return {'stop_epoch': True, 'stop_training': True}\n",
        "\n",
        "  def on_train_end(self, **kwargs:Any)->None:\n",
        "      \"Cleanup learn model weights disturbed during exploration.\"\n",
        "      self.learn.load('tmp', purge=False)\n",
        "      if hasattr(self.learn.model, 'reset'): self.learn.model.reset()\n",
        "      for cb in self.callbacks:\n",
        "          if hasattr(cb, 'reset'): cb.reset()\n",
        "        \n"
      ],
      "execution_count": 0,
      "outputs": []
    },
    {
      "cell_type": "code",
      "metadata": {
        "id": "w0YhaP8DqYLR",
        "colab_type": "code",
        "outputId": "b987bf0a-32c9-482b-fbfa-708462273db9",
        "colab": {
          "base_uri": "https://localhost:8080/",
          "height": 283
        }
      },
      "source": [
        "lr = 1e-1\n",
        "bs = 32\n",
        "\n",
        "results = []\n",
        "\n",
        "for num_it in range(100,500,100):\n",
        "  cb = bs_find(learn,lr,bs,num_it)\n",
        "  noise,scale,noise_scale = cb.noise, cb.scale, cb.noise_scale\n",
        "  results.append({\"noise\":noise,\"scale\":scale,\"noise_scale\":noise_scale})\n",
        "  \n",
        "df = pd.DataFrame(results)\n",
        "df.index = list(range(100,500,100))\n",
        "df.plot()"
      ],
      "execution_count": 0,
      "outputs": [
        {
          "output_type": "display_data",
          "data": {
            "text/html": [
              ""
            ],
            "text/plain": [
              "<IPython.core.display.HTML object>"
            ]
          },
          "metadata": {
            "tags": []
          }
        },
        {
          "output_type": "display_data",
          "data": {
            "text/html": [
              ""
            ],
            "text/plain": [
              "<IPython.core.display.HTML object>"
            ]
          },
          "metadata": {
            "tags": []
          }
        },
        {
          "output_type": "display_data",
          "data": {
            "text/html": [
              ""
            ],
            "text/plain": [
              "<IPython.core.display.HTML object>"
            ]
          },
          "metadata": {
            "tags": []
          }
        },
        {
          "output_type": "display_data",
          "data": {
            "text/html": [
              ""
            ],
            "text/plain": [
              "<IPython.core.display.HTML object>"
            ]
          },
          "metadata": {
            "tags": []
          }
        },
        {
          "output_type": "execute_result",
          "data": {
            "text/plain": [
              "<matplotlib.axes._subplots.AxesSubplot at 0x7f27cc6c6a90>"
            ]
          },
          "metadata": {
            "tags": []
          },
          "execution_count": 268
        },
        {
          "output_type": "display_data",
          "data": {
            "image/png": "[encoded data removed]",
            "text/plain": [
              "<Figure size 432x288 with 1 Axes>"
            ]
          },
          "metadata": {
            "tags": []
          }
        }
      ]
    },
    {
      "cell_type": "code",
      "metadata": {
        "id": "F0aQaH9nskhA",
        "colab_type": "code",
        "outputId": "df8b23fe-c8d9-4032-b5e7-2ca41d7407e2",
        "colab": {
          "base_uri": "https://localhost:8080/",
          "height": 283
        }
      },
      "source": [
        "lr = 1e-1\n",
        "bs = 64\n",
        "\n",
        "results = []\n",
        "\n",
        "for num_it in range(100,500,100):\n",
        "  cb = bs_find(learn,lr,bs,num_it)\n",
        "  noise,scale,noise_scale = cb.noise, cb.scale, cb.noise_scale\n",
        "  results.append({\"noise\":noise,\"scale\":scale,\"noise_scale\":noise_scale})\n",
        "  \n",
        "df = pd.DataFrame(results)\n",
        "df.index = list(range(100,500,100))\n",
        "df.plot()"
      ],
      "execution_count": 0,
      "outputs": [
        {
          "output_type": "display_data",
          "data": {
            "text/html": [
              ""
            ],
            "text/plain": [
              "<IPython.core.display.HTML object>"
            ]
          },
          "metadata": {
            "tags": []
          }
        },
        {
          "output_type": "display_data",
          "data": {
            "text/html": [
              ""
            ],
            "text/plain": [
              "<IPython.core.display.HTML object>"
            ]
          },
          "metadata": {
            "tags": []
          }
        },
        {
          "output_type": "display_data",
          "data": {
            "text/html": [
              ""
            ],
            "text/plain": [
              "<IPython.core.display.HTML object>"
            ]
          },
          "metadata": {
            "tags": []
          }
        },
        {
          "output_type": "display_data",
          "data": {
            "text/html": [
              ""
            ],
            "text/plain": [
              "<IPython.core.display.HTML object>"
            ]
          },
          "metadata": {
            "tags": []
          }
        },
        {
          "output_type": "execute_result",
          "data": {
            "text/plain": [
              "<matplotlib.axes._subplots.AxesSubplot at 0x7f27cc403780>"
            ]
          },
          "metadata": {
            "tags": []
          },
          "execution_count": 269
        },
        {
          "output_type": "display_data",
          "data": {
            "image/png": "[encoded data removed]",
            "text/plain": [
              "<Figure size 432x288 with 1 Axes>"
            ]
          },
          "metadata": {
            "tags": []
          }
        }
      ]
    },
    {
      "cell_type": "markdown",
      "metadata": {
        "id": "Cz10bb0nq-wl",
        "colab_type": "text"
      },
      "source": [
        "Ah ! Things seem to work a little bit better, or at least it's not garbage. Nonetheless we do not have the same results as the paper which had a Simple Noise Scale of 50 at the beginning, and 800 at the end.\n",
        "\n",
        "We see that the batch size does not seem to influence the statistic as is described in the paper."
      ]
    },
    {
      "cell_type": "markdown",
      "metadata": {
        "id": "D9iunPJ1wUNT",
        "colab_type": "text"
      },
      "source": [
        "### Third approach : two batch sizes\n",
        "\n",
        "As suggested in the paper, we will try using the following formulas : \n",
        "\n",
        "1.   $$|\\mathcal{G}|^2 = \\frac{1}{B_{big} - B_{small}} (B_{big} |G_{big}|^2 - B_{small} [G_{small}|^2) \\approx |G|^2$$\n",
        "2.   $$\\mathcal{S} = \\frac{1}{\\frac{1}{B_{small}} - \\frac{1}{B_{big}}} (|G_{small}|^2 - |G_{big}|^2) \\approx tr(\\Sigma)$$\n",
        "\n",
        "To do so, we will run two learning cycles, with two different batch sizes, here we use $B_{big} = 2 B_{small}$, keep their respective $|G_{big}|^2$ and $|G_{small}|^2$, and use them to compute $|\\mathcal{G}|^2$ and $\\mathcal{S}$ in an exponential moving average manner as in described in the paper."
      ]
    },
    {
      "cell_type": "code",
      "metadata": {
        "id": "gX_7PAGDIe2-",
        "colab_type": "code",
        "colab": {}
      },
      "source": [
        "class BSFinder2(LearnerCallback):\n",
        "    def __init__(self, learn:Learner, bs=None, num_it:int=10, beta = 0.9):\n",
        "        super().__init__(learn)\n",
        "        self.data = learn.data\n",
        "        if bs: self.data.batch_size = bs\n",
        "        self.num_it = num_it\n",
        "\n",
        "    def on_train_begin(self, pbar, **kwargs:Any)->None:\n",
        "        setattr(pbar, 'clean_on_interrupt', True)\n",
        "        self.learn.save('tmp')\n",
        "        \n",
        "        self.grads_sq = []\n",
        "\n",
        "        return {'skip_validate': True}\n",
        "\n",
        "    def on_backward_end(self, iteration:int, **kwargs:Any)->None:\n",
        "\n",
        "        model = self.learn.model\n",
        "        grad = get_flatten_grad(model)\n",
        "        \n",
        "        grad_sq = (grad ** 2).sum()\n",
        "        self.grads_sq.append(grad_sq)\n",
        "        \n",
        "        if iteration >= self.num_it:\n",
        "          return {'stop_epoch': True, 'stop_training': True}\n",
        "\n",
        "    def on_train_end(self, **kwargs:Any)->None:\n",
        "        self.learn.load('tmp', purge=False)\n",
        "        if hasattr(self.learn.model, 'reset'): self.learn.model.reset()\n",
        "        for cb in self.callbacks:\n",
        "            if hasattr(cb, 'reset'): cb.reset()\n",
        "        \n"
      ],
      "execution_count": 0,
      "outputs": []
    },
    {
      "cell_type": "code",
      "metadata": {
        "id": "yCqSrSte8osk",
        "colab_type": "code",
        "colab": {}
      },
      "source": [
        "def bs_find2(learn:Learner,lr,bs_min=None,bs_max=None, num_it:int=10, beta = 0.9,wd = None):\n",
        "  bs_min = bs if bs else learn.data.batch_size\n",
        "  bs_max = bs_max if bs_max else bs_min * 2\n",
        "  \n",
        "  epochs = int(np.ceil(num_it/len(learn.data.train_dl)))\n",
        "  \n",
        "  cb_min = BSFinder2(learn, bs_min, num_it, beta)\n",
        "  learn.fit(epochs, lr, callbacks=[cb_min], wd=wd)\n",
        "  \n",
        "  cb_max = BSFinder2(learn, bs_max, num_it, beta)\n",
        "  learn.fit(epochs, lr, callbacks=[cb_max], wd=wd)\n",
        "  \n",
        "  running_noise = None\n",
        "  running_scale = None\n",
        "  \n",
        "  output = []\n",
        "  \n",
        "  for i,(g_big,g_small) in enumerate(zip(cb_min.grads_sq,cb_max.grads_sq)):\n",
        "    noise = (g_small - g_big) / ((1/bs_min) - (1/bs_max))\n",
        "    scale = (bs_max * g_big - bs_min * g_small) / (bs_max - bs_min)\n",
        "    \n",
        "    running_noise = mom3(running_noise,beta,noise,i)\n",
        "    running_scale = mom3(running_scale,beta,scale,i)\n",
        "    \n",
        "    output.append({\"noise\":running_noise.item(),\"scale\":running_scale.item(),\"noise_scale\":(running_noise /running_scale).item()})\n",
        "  return output"
      ],
      "execution_count": 0,
      "outputs": []
    },
    {
      "cell_type": "code",
      "metadata": {
        "id": "e9lVGOBtMFAS",
        "colab_type": "code",
        "outputId": "b85e1e02-6bfe-4222-9af3-d56ed6e553f0",
        "colab": {
          "base_uri": "https://localhost:8080/",
          "height": 17
        }
      },
      "source": [
        "lr = 1e-1\n",
        "bs = 32\n",
        "num_it = 200\n",
        "\n",
        "cb = bs_find2(learn,lr,bs,num_it=num_it)"
      ],
      "execution_count": 0,
      "outputs": [
        {
          "output_type": "display_data",
          "data": {
            "text/html": [
              ""
            ],
            "text/plain": [
              "<IPython.core.display.HTML object>"
            ]
          },
          "metadata": {
            "tags": []
          }
        },
        {
          "output_type": "display_data",
          "data": {
            "text/html": [
              ""
            ],
            "text/plain": [
              "<IPython.core.display.HTML object>"
            ]
          },
          "metadata": {
            "tags": []
          }
        }
      ]
    },
    {
      "cell_type": "code",
      "metadata": {
        "id": "lPHDOufuu21g",
        "colab_type": "code",
        "outputId": "d1123aea-4e7d-46cd-bffe-83e14256db5c",
        "colab": {
          "base_uri": "https://localhost:8080/",
          "height": 294
        }
      },
      "source": [
        "df = pd.DataFrame(cb)\n",
        "df.plot()"
      ],
      "execution_count": 0,
      "outputs": [
        {
          "output_type": "execute_result",
          "data": {
            "text/plain": [
              "<matplotlib.axes._subplots.AxesSubplot at 0x7f27cc762b38>"
            ]
          },
          "metadata": {
            "tags": []
          },
          "execution_count": 265
        },
        {
          "output_type": "display_data",
          "data": {
            "image/png": "[encoded data removed]",
            "text/plain": [
              "<Figure size 432x288 with 1 Axes>"
            ]
          },
          "metadata": {
            "tags": []
          }
        }
      ]
    },
    {
      "cell_type": "markdown",
      "metadata": {
        "id": "6KP1YRwSxCF2",
        "colab_type": "text"
      },
      "source": [
        "Ok it seems to suck as well. Back to square one I guess !"
      ]
    },
    {
      "cell_type": "markdown",
      "metadata": {
        "id": "r2LO_E-WFyY0",
        "colab_type": "text"
      },
      "source": [
        "### Fourth approach : sequential batches\n",
        "\n",
        "Finally, one way that might have seemed obvious at first, was simply to replace the parallel averaging of gradients, done initially with several GPUs, to a simple sequential averaging of gradients stored in a buffer.\n",
        "\n"
      ]
    },
    {
      "cell_type": "code",
      "metadata": {
        "id": "ieirk0k_F4tH",
        "colab_type": "code",
        "colab": {}
      },
      "source": [
        "from fastai.basic_train import Learner, LearnerCallback\n",
        "\n",
        "def get_flatten_grad(model):\n",
        "  \"\"\"Return the flattened parameter of a model, \n",
        "  returns a (n,1) tensor with the total number of parameters\"\"\"\n",
        "  \n",
        "  parameters = list(model.parameters())\n",
        "  grads = [param.grad.flatten().view(-1,1) for param in parameters if not type(param.grad) == type(None)]\n",
        "  grad = torch.cat(grads)\n",
        "  return grad\n",
        "\n",
        "# Linear combination for the moving average\n",
        "def lin_comb(v1, v2, beta): return beta*v1 + (1-beta)*v2\n",
        "\n",
        "def mom3(avg, beta, yi, i):\n",
        "    if avg is None: avg=0\n",
        "    avg = lin_comb(avg, yi, beta)\n",
        "    return avg, avg/(1-beta**(i+1))\n",
        "  \n",
        "  \n",
        "class BSFinder(LearnerCallback):\n",
        "  \n",
        "  def __init__(self, learn:Learner, bs=None, num_it:int=100, n_batch = 5,beta = 0.9):\n",
        "      super().__init__(learn)\n",
        "      self.data = learn.data\n",
        "      \n",
        "      if bs: self.data.batch_size = bs\n",
        "      self.b_small = bs\n",
        "      self.b_big = bs * n_batch\n",
        "      \n",
        "      self.num_it = num_it\n",
        "      self.n_batch = n_batch \n",
        "      self.beta = beta\n",
        "\n",
        "  def on_train_begin(self, pbar, **kwargs:Any)->None:\n",
        "      \"Setup the running averages and the output list\"\n",
        "\n",
        "      setattr(pbar, 'clean_on_interrupt', True)\n",
        "      self.learn.save('tmp')\n",
        "      \n",
        "      self.running_scale = None\n",
        "      self.running_noise = None\n",
        "      \n",
        "      self.batches = []\n",
        "\n",
        "      # We create the list which will store the data\n",
        "      self.output = []\n",
        "\n",
        "      return {'skip_validate': True}\n",
        "\n",
        "  def on_backward_end(self, iteration:int, **kwargs:Any)->None:\n",
        "\n",
        "      if iteration >= self.num_it:\n",
        "        return {'stop_epoch': True, 'stop_training': True}\n",
        "\n",
        "      # First we grab the gradient\n",
        "      model = self.learn.model\n",
        "      grad = get_flatten_grad(model)\n",
        "      self.batches.append(grad)\n",
        "      \n",
        "      if iteration % self.n_batch == self.n_batch - 1:\n",
        "        # We concatenate the batches and empty the buffer\n",
        "\n",
        "        batches = torch.cat(self.batches,dim = 1)\n",
        "        self.batches = []\n",
        "        \n",
        "        grads = batches.mean(dim = 1)\n",
        "        \n",
        "        g_big = (grads ** 2).mean()\n",
        "        g_small = (grad ** 2).mean()\n",
        "        \n",
        "        noise = (self.b_big * g_big - self.b_small * g_small) / (self.b_big - self.b_small)\n",
        "        scale = (g_small - g_big) / ((1 / self.b_small) - (1 / self.b_big))\n",
        "        \n",
        "        self.running_scale, scale = mom3(self.running_scale,self.beta,scale,iteration)\n",
        "        self.running_noise, noise = mom3(self.running_noise,self.beta,noise,iteration)\n",
        "        \n",
        "        scale = scale.item()\n",
        "        noise = noise.item()\n",
        "        noise_scale = (scale / noise)\n",
        "        self.output.append({\"noise\":noise,\"scale\":scale,\"noise_scale\":noise_scale})\n",
        "\n",
        "  def on_train_end(self, **kwargs:Any)->None:\n",
        "      \"Cleanup learn model weights disturbed during exploration.\"\n",
        "      self.learn.load('tmp', purge=False)\n",
        "      if hasattr(self.learn.model, 'reset'): self.learn.model.reset()\n",
        "      for cb in self.callbacks:\n",
        "          if hasattr(cb, 'reset'): cb.reset()\n",
        "        \n"
      ],
      "execution_count": 0,
      "outputs": []
    },
    {
      "cell_type": "code",
      "metadata": {
        "id": "SowRazQ4KXU8",
        "colab_type": "code",
        "colab": {}
      },
      "source": [
        "def bs_find(learn:Learner,lr,bs=None, num_it:int=10, n_batch = 5,beta = 0.9,wd = None):\n",
        "  cb = BSFinder(learn, bs, num_it, n_batch,beta)\n",
        "  epochs = int(np.ceil(num_it/len(learn.data.train_dl)))\n",
        "  learn.fit(epochs, lr, callbacks=[cb], wd=wd)\n",
        "  return cb"
      ],
      "execution_count": 0,
      "outputs": []
    },
    {
      "cell_type": "code",
      "metadata": {
        "id": "RXdPKERC6K2s",
        "colab_type": "code",
        "colab": {
          "base_uri": "https://localhost:8080/",
          "height": 363
        },
        "outputId": "4dacf323-613b-4487-d406-fd1769b0ac38"
      },
      "source": [
        "# We create our learner\n",
        "model = create_model()\n",
        "learn = Learner(data, model, loss_func = nn.CrossEntropyLoss(), metrics=accuracy)\n",
        "\n",
        "lr = 0.05\n",
        "bs = 64\n",
        "num_it = 750\n",
        "n_batch = 20\n",
        "beta = 0.99\n",
        "\n",
        "cb = bs_find(learn,lr,bs,num_it,n_batch,beta)\n",
        "\n",
        "df = pd.DataFrame(cb.output)\n",
        "df.noise_scale.plot(title=f\"Average Noise scale : {df.noise_scale.mean()}\")"
      ],
      "execution_count": 42,
      "outputs": [
        {
          "output_type": "display_data",
          "data": {
            "text/html": [
              "<table border=\"1\" class=\"dataframe\">\n",
              "  <thead>\n",
              "    <tr style=\"text-align: left;\">\n",
              "      <th>epoch</th>\n",
              "      <th>train_loss</th>\n",
              "      <th>valid_loss</th>\n",
              "      <th>accuracy</th>\n",
              "      <th>time</th>\n",
              "    </tr>\n",
              "  </thead>\n",
              "  <tbody>\n",
              "    <tr>\n",
              "      <td>0</td>\n",
              "      <td>0.177818</td>\n",
              "      <td>#na#</td>\n",
              "      <td>00:39</td>\n",
              "    </tr>\n",
              "  </tbody>\n",
              "</table>"
            ],
            "text/plain": [
              "<IPython.core.display.HTML object>"
            ]
          },
          "metadata": {
            "tags": []
          }
        },
        {
          "output_type": "execute_result",
          "data": {
            "text/plain": [
              "<matplotlib.axes._subplots.AxesSubplot at 0x7feed37845f8>"
            ]
          },
          "metadata": {
            "tags": []
          },
          "execution_count": 42
        },
        {
          "output_type": "display_data",
          "data": {
            "image/png": "[encoded data removed]",
            "text/plain": [
              "<Figure size 432x288 with 1 Axes>"
            ]
          },
          "metadata": {
            "tags": []
          }
        }
      ]
    },
    {
      "cell_type": "code",
      "metadata": {
        "id": "GNybOdm26vSl",
        "colab_type": "code",
        "colab": {
          "base_uri": "https://localhost:8080/",
          "height": 394
        },
        "outputId": "7340ae17-6098-4d72-bb40-8ef2788e8c26"
      },
      "source": [
        "model = create_model()\n",
        "learn = Learner(data, model, loss_func = nn.CrossEntropyLoss(), metrics=accuracy)\n",
        "\n",
        "lr = 1e-1\n",
        "bs = 128\n",
        "num_it = 750\n",
        "n_batch = 20\n",
        "beta = 0.99\n",
        "\n",
        "cb = bs_find(learn,lr,bs,num_it,n_batch,beta)\n",
        "\n",
        "df = pd.DataFrame(cb.output)\n",
        "df.noise_scale.plot(title=f\"Average Noise scale : {df.noise_scale.mean()}\")"
      ],
      "execution_count": 44,
      "outputs": [
        {
          "output_type": "display_data",
          "data": {
            "text/html": [
              "<table border=\"1\" class=\"dataframe\">\n",
              "  <thead>\n",
              "    <tr style=\"text-align: left;\">\n",
              "      <th>epoch</th>\n",
              "      <th>train_loss</th>\n",
              "      <th>valid_loss</th>\n",
              "      <th>accuracy</th>\n",
              "      <th>time</th>\n",
              "    </tr>\n",
              "  </thead>\n",
              "  <tbody>\n",
              "    <tr>\n",
              "      <td>0</td>\n",
              "      <td>0.174764</td>\n",
              "      <td>#na#</td>\n",
              "      <td>00:30</td>\n",
              "    </tr>\n",
              "    <tr>\n",
              "      <td>1</td>\n",
              "      <td>0.122931</td>\n",
              "      <td>#na#</td>\n",
              "      <td>00:30</td>\n",
              "    </tr>\n",
              "  </tbody>\n",
              "</table>"
            ],
            "text/plain": [
              "<IPython.core.display.HTML object>"
            ]
          },
          "metadata": {
            "tags": []
          }
        },
        {
          "output_type": "execute_result",
          "data": {
            "text/plain": [
              "<matplotlib.axes._subplots.AxesSubplot at 0x7feedba18320>"
            ]
          },
          "metadata": {
            "tags": []
          },
          "execution_count": 44
        },
        {
          "output_type": "display_data",
          "data": {
            "image/png": "[encoded data removed]",
            "text/plain": [
              "<Figure size 432x288 with 1 Axes>"
            ]
          },
          "metadata": {
            "tags": []
          }
        }
      ]
    },
    {
      "cell_type": "code",
      "metadata": {
        "id": "8X_wDKlL6-vQ",
        "colab_type": "code",
        "colab": {
          "base_uri": "https://localhost:8080/",
          "height": 35
        },
        "outputId": "1381e3ff-cb20-4129-8022-c4e543ddd81f"
      },
      "source": [
        "df.noise_scale.mean()"
      ],
      "execution_count": 16,
      "outputs": [
        {
          "output_type": "execute_result",
          "data": {
            "text/plain": [
              "618.0712673818117"
            ]
          },
          "metadata": {
            "tags": []
          },
          "execution_count": 16
        }
      ]
    },
    {
      "cell_type": "code",
      "metadata": {
        "id": "b5M8fohwSq3q",
        "colab_type": "code",
        "outputId": "dc814b1e-b64d-4aac-efe4-fa67f3b4127e",
        "colab": {
          "base_uri": "https://localhost:8080/",
          "height": 426
        }
      },
      "source": [
        "bs = 32\n",
        "lr = 0.05\n",
        "n_epoch = 12\n",
        "\n",
        "model = create_model()\n",
        "# We create our learner\n",
        "\n",
        "learn = Learner(data, model, loss_func = nn.CrossEntropyLoss(), metrics=accuracy)\n",
        "learn.data.batch_size = bs\n",
        "learn.fit_one_cycle(n_epoch,lr)"
      ],
      "execution_count": 51,
      "outputs": [
        {
          "output_type": "display_data",
          "data": {
            "text/html": [
              "<table border=\"1\" class=\"dataframe\">\n",
              "  <thead>\n",
              "    <tr style=\"text-align: left;\">\n",
              "      <th>epoch</th>\n",
              "      <th>train_loss</th>\n",
              "      <th>valid_loss</th>\n",
              "      <th>accuracy</th>\n",
              "      <th>time</th>\n",
              "    </tr>\n",
              "  </thead>\n",
              "  <tbody>\n",
              "    <tr>\n",
              "      <td>0</td>\n",
              "      <td>0.261281</td>\n",
              "      <td>0.216324</td>\n",
              "      <td>0.937417</td>\n",
              "      <td>01:01</td>\n",
              "    </tr>\n",
              "    <tr>\n",
              "      <td>1</td>\n",
              "      <td>0.166257</td>\n",
              "      <td>0.465717</td>\n",
              "      <td>0.858167</td>\n",
              "      <td>01:01</td>\n",
              "    </tr>\n",
              "    <tr>\n",
              "      <td>2</td>\n",
              "      <td>0.136244</td>\n",
              "      <td>0.103858</td>\n",
              "      <td>0.968500</td>\n",
              "      <td>01:02</td>\n",
              "    </tr>\n",
              "    <tr>\n",
              "      <td>3</td>\n",
              "      <td>0.141328</td>\n",
              "      <td>0.092951</td>\n",
              "      <td>0.972000</td>\n",
              "      <td>01:02</td>\n",
              "    </tr>\n",
              "    <tr>\n",
              "      <td>4</td>\n",
              "      <td>0.129287</td>\n",
              "      <td>0.164577</td>\n",
              "      <td>0.951167</td>\n",
              "      <td>01:02</td>\n",
              "    </tr>\n",
              "    <tr>\n",
              "      <td>5</td>\n",
              "      <td>0.103201</td>\n",
              "      <td>0.187019</td>\n",
              "      <td>0.943167</td>\n",
              "      <td>01:02</td>\n",
              "    </tr>\n",
              "    <tr>\n",
              "      <td>6</td>\n",
              "      <td>0.101905</td>\n",
              "      <td>0.053372</td>\n",
              "      <td>0.985500</td>\n",
              "      <td>01:02</td>\n",
              "    </tr>\n",
              "    <tr>\n",
              "      <td>7</td>\n",
              "      <td>0.083407</td>\n",
              "      <td>0.522800</td>\n",
              "      <td>0.984167</td>\n",
              "      <td>01:02</td>\n",
              "    </tr>\n",
              "    <tr>\n",
              "      <td>8</td>\n",
              "      <td>0.052406</td>\n",
              "      <td>0.043899</td>\n",
              "      <td>0.988583</td>\n",
              "      <td>01:02</td>\n",
              "    </tr>\n",
              "    <tr>\n",
              "      <td>9</td>\n",
              "      <td>0.043776</td>\n",
              "      <td>0.026141</td>\n",
              "      <td>0.991500</td>\n",
              "      <td>01:01</td>\n",
              "    </tr>\n",
              "    <tr>\n",
              "      <td>10</td>\n",
              "      <td>0.024757</td>\n",
              "      <td>0.019282</td>\n",
              "      <td>0.994000</td>\n",
              "      <td>01:00</td>\n",
              "    </tr>\n",
              "    <tr>\n",
              "      <td>11</td>\n",
              "      <td>0.025174</td>\n",
              "      <td>0.018109</td>\n",
              "      <td>0.993917</td>\n",
              "      <td>01:00</td>\n",
              "    </tr>\n",
              "  </tbody>\n",
              "</table>"
            ],
            "text/plain": [
              "<IPython.core.display.HTML object>"
            ]
          },
          "metadata": {
            "tags": []
          }
        }
      ]
    },
    {
      "cell_type": "code",
      "metadata": {
        "id": "Nr5NTWhsFkGu",
        "colab_type": "code",
        "colab": {
          "base_uri": "https://localhost:8080/",
          "height": 279
        },
        "outputId": "cf1f28f0-6dc8-4200-924b-cabd8b63678d"
      },
      "source": [
        "learn.recorder.plot_losses()"
      ],
      "execution_count": 52,
      "outputs": [
        {
          "output_type": "display_data",
          "data": {
            "image/png": "[encoded data removed]",
            "text/plain": [
              "<Figure size 432x288 with 1 Axes>"
            ]
          },
          "metadata": {
            "tags": []
          }
        }
      ]
    },
    {
      "cell_type": "code",
      "metadata": {
        "id": "Wc3rnu0TS53j",
        "colab_type": "code",
        "outputId": "4de6e32d-c8b8-41bf-eeb1-011d00d43bd9",
        "colab": {
          "base_uri": "https://localhost:8080/",
          "height": 297
        }
      },
      "source": [
        "bs = 512\n",
        "lr = 0.05\n",
        "n_epoch = 18\n",
        "\n",
        "model = create_model()\n",
        "# We create our learner\n",
        "learn = Learner(data, model, loss_func = nn.CrossEntropyLoss(), metrics=accuracy)\n",
        "learn.data.batch_size = bs\n",
        "\n",
        "learn.lr_find(end_lr=100)\n",
        "learn.recorder.plot()"
      ],
      "execution_count": 46,
      "outputs": [
        {
          "output_type": "display_data",
          "data": {
            "text/html": [
              ""
            ],
            "text/plain": [
              "<IPython.core.display.HTML object>"
            ]
          },
          "metadata": {
            "tags": []
          }
        },
        {
          "output_type": "stream",
          "text": [
            "LR Finder is complete, type {learner_name}.recorder.plot() to see the graph.\n"
          ],
          "name": "stdout"
        },
        {
          "output_type": "display_data",
          "data": {
            "image/png": "[encoded data removed]",
            "text/plain": [
              "<Figure size 432x288 with 1 Axes>"
            ]
          },
          "metadata": {
            "tags": []
          }
        }
      ]
    },
    {
      "cell_type": "code",
      "metadata": {
        "id": "j7LJ5eZzAJwU",
        "colab_type": "code",
        "colab": {
          "base_uri": "https://localhost:8080/",
          "height": 614
        },
        "outputId": "e76cfb7b-28b7-4e78-9167-7f7ffede2b74"
      },
      "source": [
        "learn.fit_one_cycle(n_epoch,1e-1)"
      ],
      "execution_count": 47,
      "outputs": [
        {
          "output_type": "display_data",
          "data": {
            "text/html": [
              "<table border=\"1\" class=\"dataframe\">\n",
              "  <thead>\n",
              "    <tr style=\"text-align: left;\">\n",
              "      <th>epoch</th>\n",
              "      <th>train_loss</th>\n",
              "      <th>valid_loss</th>\n",
              "      <th>accuracy</th>\n",
              "      <th>time</th>\n",
              "    </tr>\n",
              "  </thead>\n",
              "  <tbody>\n",
              "    <tr>\n",
              "      <td>0</td>\n",
              "      <td>0.609383</td>\n",
              "      <td>0.245341</td>\n",
              "      <td>0.946833</td>\n",
              "      <td>00:28</td>\n",
              "    </tr>\n",
              "    <tr>\n",
              "      <td>1</td>\n",
              "      <td>0.218782</td>\n",
              "      <td>0.117915</td>\n",
              "      <td>0.965667</td>\n",
              "      <td>00:28</td>\n",
              "    </tr>\n",
              "    <tr>\n",
              "      <td>2</td>\n",
              "      <td>0.129089</td>\n",
              "      <td>0.265005</td>\n",
              "      <td>0.923583</td>\n",
              "      <td>00:28</td>\n",
              "    </tr>\n",
              "    <tr>\n",
              "      <td>3</td>\n",
              "      <td>0.102456</td>\n",
              "      <td>0.303500</td>\n",
              "      <td>0.906833</td>\n",
              "      <td>00:28</td>\n",
              "    </tr>\n",
              "    <tr>\n",
              "      <td>4</td>\n",
              "      <td>0.086146</td>\n",
              "      <td>0.114640</td>\n",
              "      <td>0.966333</td>\n",
              "      <td>00:28</td>\n",
              "    </tr>\n",
              "    <tr>\n",
              "      <td>5</td>\n",
              "      <td>0.076784</td>\n",
              "      <td>0.082325</td>\n",
              "      <td>0.975083</td>\n",
              "      <td>00:28</td>\n",
              "    </tr>\n",
              "    <tr>\n",
              "      <td>6</td>\n",
              "      <td>0.067621</td>\n",
              "      <td>0.121937</td>\n",
              "      <td>0.963750</td>\n",
              "      <td>00:28</td>\n",
              "    </tr>\n",
              "    <tr>\n",
              "      <td>7</td>\n",
              "      <td>0.067483</td>\n",
              "      <td>0.152722</td>\n",
              "      <td>0.950250</td>\n",
              "      <td>00:28</td>\n",
              "    </tr>\n",
              "    <tr>\n",
              "      <td>8</td>\n",
              "      <td>0.054785</td>\n",
              "      <td>0.140717</td>\n",
              "      <td>0.960500</td>\n",
              "      <td>00:28</td>\n",
              "    </tr>\n",
              "    <tr>\n",
              "      <td>9</td>\n",
              "      <td>0.050790</td>\n",
              "      <td>0.040508</td>\n",
              "      <td>0.986500</td>\n",
              "      <td>00:27</td>\n",
              "    </tr>\n",
              "    <tr>\n",
              "      <td>10</td>\n",
              "      <td>0.043981</td>\n",
              "      <td>0.049054</td>\n",
              "      <td>0.984083</td>\n",
              "      <td>00:28</td>\n",
              "    </tr>\n",
              "    <tr>\n",
              "      <td>11</td>\n",
              "      <td>0.039289</td>\n",
              "      <td>0.059460</td>\n",
              "      <td>0.980500</td>\n",
              "      <td>00:28</td>\n",
              "    </tr>\n",
              "    <tr>\n",
              "      <td>12</td>\n",
              "      <td>0.033908</td>\n",
              "      <td>0.035886</td>\n",
              "      <td>0.988917</td>\n",
              "      <td>00:28</td>\n",
              "    </tr>\n",
              "    <tr>\n",
              "      <td>13</td>\n",
              "      <td>0.026493</td>\n",
              "      <td>0.026028</td>\n",
              "      <td>0.991500</td>\n",
              "      <td>00:28</td>\n",
              "    </tr>\n",
              "    <tr>\n",
              "      <td>14</td>\n",
              "      <td>0.024834</td>\n",
              "      <td>0.029372</td>\n",
              "      <td>0.990583</td>\n",
              "      <td>00:28</td>\n",
              "    </tr>\n",
              "    <tr>\n",
              "      <td>15</td>\n",
              "      <td>0.018181</td>\n",
              "      <td>0.016546</td>\n",
              "      <td>0.995583</td>\n",
              "      <td>00:28</td>\n",
              "    </tr>\n",
              "    <tr>\n",
              "      <td>16</td>\n",
              "      <td>0.015581</td>\n",
              "      <td>0.015800</td>\n",
              "      <td>0.995000</td>\n",
              "      <td>00:28</td>\n",
              "    </tr>\n",
              "    <tr>\n",
              "      <td>17</td>\n",
              "      <td>0.013789</td>\n",
              "      <td>0.015566</td>\n",
              "      <td>0.995083</td>\n",
              "      <td>00:28</td>\n",
              "    </tr>\n",
              "  </tbody>\n",
              "</table>"
            ],
            "text/plain": [
              "<IPython.core.display.HTML object>"
            ]
          },
          "metadata": {
            "tags": []
          }
        }
      ]
    },
    {
      "cell_type": "code",
      "metadata": {
        "id": "xClN8tfmClIO",
        "colab_type": "code",
        "colab": {
          "base_uri": "https://localhost:8080/",
          "height": 282
        },
        "outputId": "730faf71-67c4-4ea1-b658-eac945fd0099"
      },
      "source": [
        "learn.recorder.plot_losses()"
      ],
      "execution_count": 50,
      "outputs": [
        {
          "output_type": "display_data",
          "data": {
            "image/png": "[encoded data removed]",
            "text/plain": [
              "<Figure size 432x288 with 1 Axes>"
            ]
          },
          "metadata": {
            "tags": []
          }
        }
      ]
    },
    {
      "cell_type": "markdown",
      "metadata": {
        "id": "imQET5JAkInZ",
        "colab_type": "text"
      },
      "source": [
        "## Further testing"
      ]
    },
    {
      "cell_type": "markdown",
      "metadata": {
        "id": "sBiGXW-2kLKO",
        "colab_type": "text"
      },
      "source": [
        "### Tabular\n",
        "\n",
        "Here we will try with Tabular data"
      ]
    },
    {
      "cell_type": "code",
      "metadata": {
        "id": "OnD3DDHjkQyt",
        "colab_type": "code",
        "outputId": "9023fa7c-7098-4326-ea99-31445c0d0dff",
        "colab": {
          "base_uri": "https://localhost:8080/",
          "height": 365
        }
      },
      "source": [
        "from fastai.tabular import * \n",
        "\n",
        "path = untar_data(URLs.ADULT_SAMPLE)\n",
        "\n",
        "df = pd.read_csv(path/'adult.csv')\n",
        "df.head()"
      ],
      "execution_count": 0,
      "outputs": [
        {
          "output_type": "execute_result",
          "data": {
            "text/html": [
              "<div>\n",
              "<style scoped>\n",
              "    .dataframe tbody tr th:only-of-type {\n",
              "        vertical-align: middle;\n",
              "    }\n",
              "\n",
              "    .dataframe tbody tr th {\n",
              "        vertical-align: top;\n",
              "    }\n",
              "\n",
              "    .dataframe thead th {\n",
              "        text-align: right;\n",
              "    }\n",
              "</style>\n",
              "<table border=\"1\" class=\"dataframe\">\n",
              "  <thead>\n",
              "    <tr style=\"text-align: right;\">\n",
              "      <th></th>\n",
              "      <th>age</th>\n",
              "      <th>workclass</th>\n",
              "      <th>fnlwgt</th>\n",
              "      <th>education</th>\n",
              "      <th>education-num</th>\n",
              "      <th>marital-status</th>\n",
              "      <th>occupation</th>\n",
              "      <th>relationship</th>\n",
              "      <th>race</th>\n",
              "      <th>sex</th>\n",
              "      <th>capital-gain</th>\n",
              "      <th>capital-loss</th>\n",
              "      <th>hours-per-week</th>\n",
              "      <th>native-country</th>\n",
              "      <th>salary</th>\n",
              "    </tr>\n",
              "  </thead>\n",
              "  <tbody>\n",
              "    <tr>\n",
              "      <th>0</th>\n",
              "      <td>49</td>\n",
              "      <td>Private</td>\n",
              "      <td>101320</td>\n",
              "      <td>Assoc-acdm</td>\n",
              "      <td>12.0</td>\n",
              "      <td>Married-civ-spouse</td>\n",
              "      <td>NaN</td>\n",
              "      <td>Wife</td>\n",
              "      <td>White</td>\n",
              "      <td>Female</td>\n",
              "      <td>0</td>\n",
              "      <td>1902</td>\n",
              "      <td>40</td>\n",
              "      <td>United-States</td>\n",
              "      <td>&gt;=50k</td>\n",
              "    </tr>\n",
              "    <tr>\n",
              "      <th>1</th>\n",
              "      <td>44</td>\n",
              "      <td>Private</td>\n",
              "      <td>236746</td>\n",
              "      <td>Masters</td>\n",
              "      <td>14.0</td>\n",
              "      <td>Divorced</td>\n",
              "      <td>Exec-managerial</td>\n",
              "      <td>Not-in-family</td>\n",
              "      <td>White</td>\n",
              "      <td>Male</td>\n",
              "      <td>10520</td>\n",
              "      <td>0</td>\n",
              "      <td>45</td>\n",
              "      <td>United-States</td>\n",
              "      <td>&gt;=50k</td>\n",
              "    </tr>\n",
              "    <tr>\n",
              "      <th>2</th>\n",
              "      <td>38</td>\n",
              "      <td>Private</td>\n",
              "      <td>96185</td>\n",
              "      <td>HS-grad</td>\n",
              "      <td>NaN</td>\n",
              "      <td>Divorced</td>\n",
              "      <td>NaN</td>\n",
              "      <td>Unmarried</td>\n",
              "      <td>Black</td>\n",
              "      <td>Female</td>\n",
              "      <td>0</td>\n",
              "      <td>0</td>\n",
              "      <td>32</td>\n",
              "      <td>United-States</td>\n",
              "      <td>&lt;50k</td>\n",
              "    </tr>\n",
              "    <tr>\n",
              "      <th>3</th>\n",
              "      <td>38</td>\n",
              "      <td>Self-emp-inc</td>\n",
              "      <td>112847</td>\n",
              "      <td>Prof-school</td>\n",
              "      <td>15.0</td>\n",
              "      <td>Married-civ-spouse</td>\n",
              "      <td>Prof-specialty</td>\n",
              "      <td>Husband</td>\n",
              "      <td>Asian-Pac-Islander</td>\n",
              "      <td>Male</td>\n",
              "      <td>0</td>\n",
              "      <td>0</td>\n",
              "      <td>40</td>\n",
              "      <td>United-States</td>\n",
              "      <td>&gt;=50k</td>\n",
              "    </tr>\n",
              "    <tr>\n",
              "      <th>4</th>\n",
              "      <td>42</td>\n",
              "      <td>Self-emp-not-inc</td>\n",
              "      <td>82297</td>\n",
              "      <td>7th-8th</td>\n",
              "      <td>NaN</td>\n",
              "      <td>Married-civ-spouse</td>\n",
              "      <td>Other-service</td>\n",
              "      <td>Wife</td>\n",
              "      <td>Black</td>\n",
              "      <td>Female</td>\n",
              "      <td>0</td>\n",
              "      <td>0</td>\n",
              "      <td>50</td>\n",
              "      <td>United-States</td>\n",
              "      <td>&lt;50k</td>\n",
              "    </tr>\n",
              "  </tbody>\n",
              "</table>\n",
              "</div>"
            ],
            "text/plain": [
              "   age          workclass  fnlwgt  ... hours-per-week  native-country salary\n",
              "0   49            Private  101320  ...             40   United-States  >=50k\n",
              "1   44            Private  236746  ...             45   United-States  >=50k\n",
              "2   38            Private   96185  ...             32   United-States   <50k\n",
              "3   38       Self-emp-inc  112847  ...             40   United-States  >=50k\n",
              "4   42   Self-emp-not-inc   82297  ...             50   United-States   <50k\n",
              "\n",
              "[5 rows x 15 columns]"
            ]
          },
          "metadata": {
            "tags": []
          },
          "execution_count": 424
        }
      ]
    },
    {
      "cell_type": "code",
      "metadata": {
        "id": "_k8XH7XEktco",
        "colab_type": "code",
        "colab": {}
      },
      "source": [
        "procs = [FillMissing, Categorify, Normalize]\n",
        "valid_idx = range(len(df)-2000, len(df))\n",
        "\n",
        "dep_var = 'salary'\n",
        "cat_names = ['workclass', 'education', 'marital-status', 'occupation', 'relationship', 'race', 'sex', 'native-country']\n",
        "\n",
        "data = TabularDataBunch.from_df(path, df, dep_var, valid_idx=valid_idx, procs=procs, cat_names=cat_names)\n",
        "\n",
        "learn = tabular_learner(data, layers=[200,100], emb_szs={'native-country': 10}, metrics=accuracy)"
      ],
      "execution_count": 0,
      "outputs": []
    },
    {
      "cell_type": "code",
      "metadata": {
        "id": "igIjbVn-mGLT",
        "colab_type": "code",
        "outputId": "bb9b0e4d-2020-4984-b285-4893de1ebdab",
        "colab": {
          "base_uri": "https://localhost:8080/",
          "height": 112
        }
      },
      "source": [
        "learn.fit_one_cycle(2,1e-2)"
      ],
      "execution_count": 0,
      "outputs": [
        {
          "output_type": "display_data",
          "data": {
            "text/html": [
              "<table border=\"1\" class=\"dataframe\">\n",
              "  <thead>\n",
              "    <tr style=\"text-align: left;\">\n",
              "      <th>epoch</th>\n",
              "      <th>train_loss</th>\n",
              "      <th>valid_loss</th>\n",
              "      <th>accuracy</th>\n",
              "      <th>time</th>\n",
              "    </tr>\n",
              "  </thead>\n",
              "  <tbody>\n",
              "    <tr>\n",
              "      <td>0</td>\n",
              "      <td>0.355354</td>\n",
              "      <td>0.332346</td>\n",
              "      <td>0.844500</td>\n",
              "      <td>00:07</td>\n",
              "    </tr>\n",
              "    <tr>\n",
              "      <td>1</td>\n",
              "      <td>0.316527</td>\n",
              "      <td>0.319407</td>\n",
              "      <td>0.846000</td>\n",
              "      <td>00:07</td>\n",
              "    </tr>\n",
              "  </tbody>\n",
              "</table>"
            ],
            "text/plain": [
              "<IPython.core.display.HTML object>"
            ]
          },
          "metadata": {
            "tags": []
          }
        }
      ]
    },
    {
      "cell_type": "code",
      "metadata": {
        "id": "q0_ym3Vrk4Y5",
        "colab_type": "code",
        "outputId": "c09090a3-62b0-4caa-b190-873fc75ff89c",
        "colab": {
          "base_uri": "https://localhost:8080/",
          "height": 17
        }
      },
      "source": [
        "lr = 1e-1\n",
        "bs = 64\n",
        "num_it = 400\n",
        "n_batch = 20\n",
        "beta = 0.9995\n",
        "\n",
        "cb = bs_find(learn,lr,bs,num_it,n_batch,beta)"
      ],
      "execution_count": 0,
      "outputs": [
        {
          "output_type": "display_data",
          "data": {
            "text/html": [
              ""
            ],
            "text/plain": [
              "<IPython.core.display.HTML object>"
            ]
          },
          "metadata": {
            "tags": []
          }
        }
      ]
    },
    {
      "cell_type": "code",
      "metadata": {
        "id": "lPIBVTqwlU-h",
        "colab_type": "code",
        "outputId": "d74b78a4-6780-4f4e-9ce0-b98326d4f198",
        "colab": {
          "base_uri": "https://localhost:8080/",
          "height": 284
        }
      },
      "source": [
        "df = pd.DataFrame(cb.output)\n",
        "df.plot()"
      ],
      "execution_count": 0,
      "outputs": [
        {
          "output_type": "execute_result",
          "data": {
            "text/plain": [
              "<matplotlib.axes._subplots.AxesSubplot at 0x7f27ca2d4e48>"
            ]
          },
          "metadata": {
            "tags": []
          },
          "execution_count": 420
        },
        {
          "output_type": "display_data",
          "data": {
            "image/png": "[encoded data removed]",
            "text/plain": [
              "<Figure size 432x288 with 1 Axes>"
            ]
          },
          "metadata": {
            "tags": []
          }
        }
      ]
    },
    {
      "cell_type": "code",
      "metadata": {
        "id": "H6kcDykKlYf6",
        "colab_type": "code",
        "outputId": "19ef329f-d5ee-4829-fcf7-d961f4d4629a",
        "colab": {
          "base_uri": "https://localhost:8080/",
          "height": 35
        }
      },
      "source": [
        "df.noise_scale.mean()"
      ],
      "execution_count": 0,
      "outputs": [
        {
          "output_type": "execute_result",
          "data": {
            "text/plain": [
              "1166.4760863198142"
            ]
          },
          "metadata": {
            "tags": []
          },
          "execution_count": 421
        }
      ]
    },
    {
      "cell_type": "code",
      "metadata": {
        "id": "gnmBE7O1l2dc",
        "colab_type": "code",
        "outputId": "3c12e865-2819-4bae-a4b9-27edbbef2520",
        "colab": {
          "base_uri": "https://localhost:8080/",
          "height": 112
        }
      },
      "source": [
        "learn.data.batch_size = 1024\n",
        "learn.fit_one_cycle(2,1e-2)"
      ],
      "execution_count": 0,
      "outputs": [
        {
          "output_type": "display_data",
          "data": {
            "text/html": [
              "<table border=\"1\" class=\"dataframe\">\n",
              "  <thead>\n",
              "    <tr style=\"text-align: left;\">\n",
              "      <th>epoch</th>\n",
              "      <th>train_loss</th>\n",
              "      <th>valid_loss</th>\n",
              "      <th>accuracy</th>\n",
              "      <th>time</th>\n",
              "    </tr>\n",
              "  </thead>\n",
              "  <tbody>\n",
              "    <tr>\n",
              "      <td>0</td>\n",
              "      <td>0.427914</td>\n",
              "      <td>0.342425</td>\n",
              "      <td>0.841500</td>\n",
              "      <td>00:01</td>\n",
              "    </tr>\n",
              "    <tr>\n",
              "      <td>1</td>\n",
              "      <td>0.354749</td>\n",
              "      <td>0.323964</td>\n",
              "      <td>0.855500</td>\n",
              "      <td>00:01</td>\n",
              "    </tr>\n",
              "  </tbody>\n",
              "</table>"
            ],
            "text/plain": [
              "<IPython.core.display.HTML object>"
            ]
          },
          "metadata": {
            "tags": []
          }
        }
      ]
    },
    {
      "cell_type": "markdown",
      "metadata": {
        "id": "cXQWcQNHmbJP",
        "colab_type": "text"
      },
      "source": [
        "### Text\n",
        "\n"
      ]
    },
    {
      "cell_type": "code",
      "metadata": {
        "id": "RljSBR2amiKq",
        "colab_type": "code",
        "colab": {}
      },
      "source": [
        "from fastai.text import * \n",
        "\n",
        "path = untar_data(URLs.IMDB_SAMPLE)\n",
        "df = pd.read_csv(path/'texts.csv')"
      ],
      "execution_count": 0,
      "outputs": []
    },
    {
      "cell_type": "code",
      "metadata": {
        "id": "D7f4AdjXmsNC",
        "colab_type": "code",
        "colab": {}
      },
      "source": [
        "# Language model data\n",
        "data_lm = TextLMDataBunch.from_csv(path, 'texts.csv',bs=512)\n",
        "# Classifier model data\n",
        "data_clas = TextClasDataBunch.from_csv(path, 'texts.csv', vocab=data_lm.train_ds.vocab, bs=512)"
      ],
      "execution_count": 0,
      "outputs": []
    },
    {
      "cell_type": "code",
      "metadata": {
        "id": "vJc6dxfims4h",
        "colab_type": "code",
        "colab": {}
      },
      "source": [
        "learn = language_model_learner(data_lm, AWD_LSTM, drop_mult=0.5)"
      ],
      "execution_count": 0,
      "outputs": []
    },
    {
      "cell_type": "code",
      "metadata": {
        "id": "sTJFKLGZmvKE",
        "colab_type": "code",
        "outputId": "c7a56af4-d7c2-4d73-cf95-c592a33c4318",
        "colab": {
          "base_uri": "https://localhost:8080/",
          "height": 17
        }
      },
      "source": [
        "lr = 1e-2\n",
        "bs = 32\n",
        "num_it = 100\n",
        "n_batch = 10\n",
        "beta = 0.99\n",
        "\n",
        "cb = bs_find(learn,lr,bs,num_it,n_batch,beta)"
      ],
      "execution_count": 0,
      "outputs": [
        {
          "output_type": "display_data",
          "data": {
            "text/html": [
              ""
            ],
            "text/plain": [
              "<IPython.core.display.HTML object>"
            ]
          },
          "metadata": {
            "tags": []
          }
        }
      ]
    },
    {
      "cell_type": "code",
      "metadata": {
        "id": "L_p2Xge0nExd",
        "colab_type": "code",
        "outputId": "50612634-6c82-402f-eb34-82c42ead876f",
        "colab": {
          "base_uri": "https://localhost:8080/",
          "height": 283
        }
      },
      "source": [
        "df = pd.DataFrame(cb.output)\n",
        "df.plot()"
      ],
      "execution_count": 0,
      "outputs": [
        {
          "output_type": "execute_result",
          "data": {
            "text/plain": [
              "<matplotlib.axes._subplots.AxesSubplot at 0x7f27ca3c3a58>"
            ]
          },
          "metadata": {
            "tags": []
          },
          "execution_count": 444
        },
        {
          "output_type": "display_data",
          "data": {
            "image/png": "[encoded data removed]",
            "text/plain": [
              "<Figure size 432x288 with 1 Axes>"
            ]
          },
          "metadata": {
            "tags": []
          }
        }
      ]
    },
    {
      "cell_type": "code",
      "metadata": {
        "id": "g0Qkq3yaoGW0",
        "colab_type": "code",
        "outputId": "467f05da-9b4a-468d-ce74-0f98e0eec992",
        "colab": {
          "base_uri": "https://localhost:8080/",
          "height": 90
        }
      },
      "source": [
        "df.mean()"
      ],
      "execution_count": 0,
      "outputs": [
        {
          "output_type": "execute_result",
          "data": {
            "text/plain": [
              "noise          3.121423e-11\n",
              "scale          1.887409e-08\n",
              "noise_scale    6.508130e+02\n",
              "dtype: float64"
            ]
          },
          "metadata": {
            "tags": []
          },
          "execution_count": 445
        }
      ]
    },
    {
      "cell_type": "code",
      "metadata": {
        "id": "-6fv5DJ7oIfk",
        "colab_type": "code",
        "outputId": "b50369ba-7b2b-403f-f4e3-1f6299864dc3",
        "colab": {
          "base_uri": "https://localhost:8080/",
          "height": 81
        }
      },
      "source": [
        "learn = language_model_learner(data_lm, AWD_LSTM, drop_mult=0.5)\n",
        "learn.data.batch_size = 256\n",
        "learn.fit_one_cycle(1,1e-2)"
      ],
      "execution_count": 0,
      "outputs": [
        {
          "output_type": "display_data",
          "data": {
            "text/html": [
              "<table border=\"1\" class=\"dataframe\">\n",
              "  <thead>\n",
              "    <tr style=\"text-align: left;\">\n",
              "      <th>epoch</th>\n",
              "      <th>train_loss</th>\n",
              "      <th>valid_loss</th>\n",
              "      <th>accuracy</th>\n",
              "      <th>time</th>\n",
              "    </tr>\n",
              "  </thead>\n",
              "  <tbody>\n",
              "    <tr>\n",
              "      <td>0</td>\n",
              "      <td>4.359571</td>\n",
              "      <td>3.966371</td>\n",
              "      <td>0.277762</td>\n",
              "      <td>00:19</td>\n",
              "    </tr>\n",
              "  </tbody>\n",
              "</table>"
            ],
            "text/plain": [
              "<IPython.core.display.HTML object>"
            ]
          },
          "metadata": {
            "tags": []
          }
        }
      ]
    },
    {
      "cell_type": "code",
      "metadata": {
        "id": "h43yqGoko2eL",
        "colab_type": "code",
        "outputId": "fd370ef8-5486-428c-f77b-3efe2d03f471",
        "colab": {
          "base_uri": "https://localhost:8080/",
          "height": 81
        }
      },
      "source": [
        "learn = language_model_learner(data_lm, AWD_LSTM, drop_mult=0.5)\n",
        "learn.data.batch_size = 32\n",
        "learn.fit_one_cycle(1,1e-2)"
      ],
      "execution_count": 0,
      "outputs": [
        {
          "output_type": "display_data",
          "data": {
            "text/html": [
              "<table border=\"1\" class=\"dataframe\">\n",
              "  <thead>\n",
              "    <tr style=\"text-align: left;\">\n",
              "      <th>epoch</th>\n",
              "      <th>train_loss</th>\n",
              "      <th>valid_loss</th>\n",
              "      <th>accuracy</th>\n",
              "      <th>time</th>\n",
              "    </tr>\n",
              "  </thead>\n",
              "  <tbody>\n",
              "    <tr>\n",
              "      <td>0</td>\n",
              "      <td>4.225012</td>\n",
              "      <td>3.830161</td>\n",
              "      <td>0.295354</td>\n",
              "      <td>00:37</td>\n",
              "    </tr>\n",
              "  </tbody>\n",
              "</table>"
            ],
            "text/plain": [
              "<IPython.core.display.HTML object>"
            ]
          },
          "metadata": {
            "tags": []
          }
        }
      ]
    },
    {
      "cell_type": "markdown",
      "metadata": {
        "id": "mi15k3CJGZ2o",
        "colab_type": "text"
      },
      "source": [
        "### Planet competition\n",
        "\n",
        "We will know try this heuristic with a real world data set that was explored in Fastai course v3 : the planet dataset."
      ]
    },
    {
      "cell_type": "code",
      "metadata": {
        "id": "RIncx3aaGkX9",
        "colab_type": "code",
        "colab": {
          "base_uri": "https://localhost:8080/",
          "height": 240
        },
        "outputId": "bfffe43f-0d27-488b-83e9-46e414914fc3"
      },
      "source": [
        "!pip install kaggle"
      ],
      "execution_count": 53,
      "outputs": [
        {
          "output_type": "stream",
          "text": [
            "Requirement already satisfied: kaggle in /usr/local/lib/python3.6/dist-packages (1.5.6)\n",
            "Requirement already satisfied: six>=1.10 in /usr/local/lib/python3.6/dist-packages (from kaggle) (1.12.0)\n",
            "Requirement already satisfied: python-slugify in /usr/local/lib/python3.6/dist-packages (from kaggle) (4.0.0)\n",
            "Requirement already satisfied: python-dateutil in /usr/local/lib/python3.6/dist-packages (from kaggle) (2.6.1)\n",
            "Requirement already satisfied: certifi in /usr/local/lib/python3.6/dist-packages (from kaggle) (2019.9.11)\n",
            "Requirement already satisfied: requests in /usr/local/lib/python3.6/dist-packages (from kaggle) (2.21.0)\n",
            "Requirement already satisfied: tqdm in /usr/local/lib/python3.6/dist-packages (from kaggle) (4.28.1)\n",
            "Requirement already satisfied: urllib3<1.25,>=1.21.1 in /usr/local/lib/python3.6/dist-packages (from kaggle) (1.24.3)\n",
            "Requirement already satisfied: text-unidecode>=1.3 in /usr/local/lib/python3.6/dist-packages (from python-slugify->kaggle) (1.3)\n",
            "Requirement already satisfied: idna<2.9,>=2.5 in /usr/local/lib/python3.6/dist-packages (from requests->kaggle) (2.8)\n",
            "Requirement already satisfied: chardet<3.1.0,>=3.0.2 in /usr/local/lib/python3.6/dist-packages (from requests->kaggle) (3.0.4)\n"
          ],
          "name": "stdout"
        }
      ]
    },
    {
      "cell_type": "code",
      "metadata": {
        "id": "nC0EgJoIGlzI",
        "colab_type": "code",
        "colab": {}
      },
      "source": [
        ""
      ],
      "execution_count": 0,
      "outputs": []
    },
    {
      "cell_type": "code",
      "metadata": {
        "id": "tKPAvmCXG9S9",
        "colab_type": "code",
        "colab": {
          "base_uri": "https://localhost:8080/",
          "height": 129
        },
        "outputId": "21c352b9-7f05-438e-e804-62f35db99858"
      },
      "source": [
        "from google.colab import drive\n",
        "drive.mount('/content/drive')"
      ],
      "execution_count": 54,
      "outputs": [
        {
          "output_type": "stream",
          "text": [
            "Go to this URL in a browser: https://accounts.google.com/o/oauth2/auth?client_id=947318989803-6bn6qk8qdgf4n4g3pfee6491hc0brc4i.apps.googleusercontent.com&redirect_uri=urn%3Aietf%3Awg%3Aoauth%3A2.0%3Aoob&scope=email%20https%3A%2F%2Fwww.googleapis.com%2Fauth%2Fdocs.test%20https%3A%2F%2Fwww.googleapis.com%2Fauth%2Fdrive%20https%3A%2F%2Fwww.googleapis.com%2Fauth%2Fdrive.photos.readonly%20https%3A%2F%2Fwww.googleapis.com%2Fauth%2Fpeopleapi.readonly&response_type=code\n",
            "\n",
            "Enter your authorization code:\n",
            "··········\n",
            "Mounted at /content/drive\n"
          ],
          "name": "stdout"
        }
      ]
    },
    {
      "cell_type": "code",
      "metadata": {
        "id": "dnjxXDdpHQtG",
        "colab_type": "code",
        "colab": {}
      },
      "source": [
        "!mkdir -p ~/.kaggle"
      ],
      "execution_count": 0,
      "outputs": []
    },
    {
      "cell_type": "code",
      "metadata": {
        "id": "Up44oE20HcCO",
        "colab_type": "code",
        "colab": {}
      },
      "source": [
        "!cp /content/drive/My\\ Drive/kaggle.json ~/.kaggle/"
      ],
      "execution_count": 0,
      "outputs": []
    },
    {
      "cell_type": "code",
      "metadata": {
        "id": "cPwiSNnnIX9S",
        "colab_type": "code",
        "colab": {
          "base_uri": "https://localhost:8080/",
          "height": 268
        },
        "outputId": "8e3f6ce7-5ecf-45ab-cb5e-f5ffaef404fe"
      },
      "source": [
        "!kaggle competitions download -c planet-understanding-the-amazon-from-space"
      ],
      "execution_count": 0,
      "outputs": [
        {
          "output_type": "stream",
          "text": [
            "Warning: Looks like you're using an outdated API Version, please consider updating (server 1.5.6 / client 1.5.4)\n",
            "Downloading train-jpg.tar.7z to /content\n",
            " 98% 589M/600M [00:10<00:00, 106MB/s]\n",
            "100% 600M/600M [00:10<00:00, 61.9MB/s]\n",
            "Downloading test-jpg.tar.7z to /content\n",
            " 99% 599M/603M [00:13<00:00, 27.0MB/s]\n",
            "100% 603M/603M [00:14<00:00, 44.3MB/s]\n",
            "Downloading train-tif-v2.tar.7z to /content\n",
            "100% 12.9G/12.9G [05:56<00:00, 45.1MB/s]\n",
            "100% 12.9G/12.9G [05:56<00:00, 38.8MB/s]\n",
            "Downloading test-tif-v2.tar.7z to /content\n",
            "  1% 130M/19.4G [00:03<12:49, 26.9MB/s]"
          ],
          "name": "stdout"
        }
      ]
    }
  ]
}